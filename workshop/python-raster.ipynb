{
 "cells": [
  {
   "cell_type": "markdown",
   "id": "788dfcf2-a19c-4628-a090-2dc81152c9fe",
   "metadata": {},
   "source": [
    "# Raster Analysis using Open-Source Python\n",
    "\n",
    "---\n",
    "\n",
    "**A Tufts University Data Lab Workshop**\\\n",
    "Written by Uku-Kaspar Uustalu\n",
    "\n",
    "Website: [tuftsdatalab.github.io/python-raster](https://tuftsdatalab.github.io/python-raster/)\\\n",
    "Contact: <datalab-support@elist.tufts.edu>\\\n",
    "Resources: [datalab.tufts.edu](https://sites.tufts.edu/datalab/)\n",
    "\n",
    "Last updated: `2021-11-30`\n",
    "\n",
    "---"
   ]
  },
  {
   "cell_type": "markdown",
   "id": "0a665875-2d64-47ff-82b5-d06481d91715",
   "metadata": {},
   "source": [
    "This tutorial will walk you thorugh conducting a raster risk assesment using open-source Python libraries. Note that similar techiniques could also be used to conduct a raster suitability analysis instead. The workshop is largely based on [a similar raster risk assesment tutorial](https://sites.tufts.edu/gis/files/2013/11/RiskAssessment_MalariaInEthiopia_tutorial_10.6.1.pdf) written by Carolyn Talmadge for the Tufts University Data Lab. Unlike this notebook, the aformetioned tutorial utilizes ArcGIS Desktop (also known as ArcMap) to conduct the analysis. The following demonstrates how to implement a similar workflow using open-source Python libaries instead of traditional desktop GIS software."
   ]
  },
  {
   "cell_type": "markdown",
   "id": "f00d3216-127b-4416-9218-d069b32152af",
   "metadata": {},
   "source": [
    "## Introduction\n",
    "\n",
    "Malaria is a serious acute illness transmitted via the bite of a mosquito. Symptoms include fever, headache, backache, joint pains, and vomiting. If not treated, malaria can quickly become life-threatening. According to the World Health Organization (WHO), roughly 75% of the land and 60% of the population of Ethiopia is exposed to malaria. The purpose of this analysis is to determine the overall risk of Malaria transmission throughout Ethiopia, considering the following factors:\n",
    "\n",
    "- **Proximity to rivers** – Malaria is a water-related disease because it is transmitted via mosquitos who prefer to breed near rivers. Therefore, proximity to rivers results in higher risk of transmission.\n",
    "- **Elevation** – Elevation is directly linked to climate, and mosquitos prefer warmer climates and lower elevations. Lower elevations increase mosquito population turnover, which means a higher risk of transmission.\n",
    "- **Slope** – Gentle slopes equal higher susceptible areas for malaria incidence.\n",
    "- **Land cover** – Mosquitos prefer damp areas, so land cover will affect the analysis."
   ]
  },
  {
   "cell_type": "markdown",
   "id": "e044bc4c-98e4-4ab5-b49f-768209d9588e",
   "metadata": {
    "tags": []
   },
   "source": [
    "## The Data\n",
    "\n",
    "The `data` directory contains the following files:\n",
    "\n",
    "- `elevation.tif` - digital elevation model (DEM) of Ethiopia and surrounding areas (GeoTIFF)\n",
    "- `ethiopia.geojson` – the boundaries of Ethiopia (GeoJSON)\n",
    "- `landcover.tif` - land cover raster for Ethiopia and surrounding areas (GeoTiFF)\n",
    "- `rivers.geojson` – rivers of Ethiopia (GeoJSON)\n",
    "- `zones.gojson` – boundaries of second-order administrative zones (GeoJSON)\n",
    "\n",
    "To simplify the analysis, the `elevation.tif` and `landcover.tif` rasters have been clipped to the same extent with matching resolutions and projected to the [EPSG:32637 (UTM zone 37N)](https://epsg.io/32637) projected coordinate system using [`gdalwarp`](https://gdal.org/programs/gdalwarp.html). The coordinate system for the GeoJSON files is the [EPSG:4326 (WGS 84)](https://epsg.io/4326) unprojected coordinate system as per the GeoJSON standard.\n"
   ]
  },
  {
   "cell_type": "markdown",
   "id": "27fedcee-af16-4b94-9e65-66b3777da38b",
   "metadata": {},
   "source": [
    "## Analysis Overview\n",
    "\n",
    "Here is a rough outline of the analysis we will perform:\n",
    "\n",
    "1. Read in and visualize the raster datasets\n",
    "2. **Land cover** > reclassify for land cover preferences\n",
    "3. **Elevation (DEM)** > derive slope > reclassify for slope preferences (low slope = high risk)\n",
    "4. **Elevation (DEM)** > reclassify for elevation preferences (low elevation = high risk)\n",
    "5. **Rivers** > rasterize vector > get euclidean distance raster > reclassify (close = high risk) \n",
    "6. Calculate weighted and unweighted risk raster from all reclassified rasters\n",
    "7. Mask risk rasters to the shape of Ethiopia\n",
    "8. Use zonal statistics to determine average risk per zone\n"
   ]
  },
  {
   "cell_type": "markdown",
   "id": "c6da0995-a7fb-4b23-b230-4a14ac637683",
   "metadata": {},
   "source": [
    "## Import Dependencies\n",
    "\n",
    "The analysis will utilize the following libraries and modules."
   ]
  },
  {
   "cell_type": "code",
   "execution_count": null,
   "id": "81d1e023-4b97-411d-9735-585b83c512d6",
   "metadata": {},
   "outputs": [],
   "source": [
    "import rasterio\n",
    "from rasterio.plot import show\n",
    "from rasterio import features\n",
    "\n",
    "import numpy as np\n",
    "import pandas as pd\n",
    "import geopandas as gpd\n",
    "import matplotlib.pyplot as plt\n",
    "\n",
    "import richdem as rd\n",
    "from scipy import ndimage\n",
    "from rasterstats import zonal_stats\n",
    "\n",
    "import contextily as cx"
   ]
  },
  {
   "cell_type": "markdown",
   "id": "d1634112-1939-4afb-b059-d67c849695de",
   "metadata": {},
   "source": [
    "## Read Raster Datasets\n",
    "\n",
    "The [`rasterio.open()`](https://rasterio.readthedocs.io/en/latest/api/rasterio.html#rasterio.open) function can be used to open and read in raster datasets. The following will walk you throguh openting and reading in the elevation and landcover datasets using this function.\n",
    "\n",
    "It is important to remember that just like the [`open()`](https://docs.python.org/3/library/functions.html#open) function in Python, the [`rasterio.open()`](https://rasterio.readthedocs.io/en/latest/api/rasterio.html#rasterio.open) function establishes a connection to the file, which should later be closed. Hence, you should either use [`with`](https://docs.python.org/3/reference/compound_stmts.html#with) to open the file and extract all relevant information or make sure to use [`.close()`](https://rasterio.readthedocs.io/en/latest/api/rasterio.io.html#rasterio.io.DatasetReader.close) to close the connection once you are done.\n",
    "\n",
    "Antoher important thing to note is that the [`rasterio.open()`](https://rasterio.readthedocs.io/en/latest/api/rasterio.html#rasterio.open) function returns a [`DatasetReader`](https://rasterio.readthedocs.io/en/latest/api/rasterio.io.html#rasterio.io.DatasetReader) object, not the dataset itself. However, the [`DatasetReader`](https://rasterio.readthedocs.io/en/latest/api/rasterio.io.html#rasterio.io.DatasetReader) object has numerous attributes and methods that allow you to read in various components of the raster dataset. For example, you can use the [`.meta`](https://rasterio.readthedocs.io/en/latest/api/rasterio.io.html#rasterio.io.DatasetReader.meta) attribute to access the metadata associated with the raster and you can use the [`.read()`](https://rasterio.readthedocs.io/en/latest/api/rasterio.io.html#rasterio.io.DatasetReader.read) method to extract the raster data values as a matrix.\n",
    "\n",
    "Both raster datasets should have the same coordinate system, extent, and resolution, but you should use the [`.meta`](https://rasterio.readthedocs.io/en/latest/api/rasterio.io.html#rasterio.io.DatasetReader.meta) attribute to compare the metadata for both files and ensure this is the case.\n",
    "\n",
    "Once you have confirmed that the spatial attributes of both rasters are the same, use the [`.read()`](https://rasterio.readthedocs.io/en/latest/api/rasterio.io.html#rasterio.io.DatasetReader.read) method with the appropriate band number to save the data matrices of the raster datasets into variables named `elevation` and `landcover`. Then pick one raster and use the appropriate attributes to extract all necessary spatial information into corresponding variables as well. Here is the information that is vital to the analysis:\n",
    "\n",
    "- [`bounds`](https://rasterio.readthedocs.io/en/latest/api/rasterio.io.html#rasterio.io.DatasetReader.bounds) – the spatial extent of the rasters\n",
    "- [`crs`](https://rasterio.readthedocs.io/en/latest/api/rasterio.io.html#rasterio.io.DatasetReader.crs) – the coordinate system used\n",
    "- [`nodata`](https://rasterio.readthedocs.io/en/latest/api/rasterio.io.html#rasterio.io.DatasetReader.nodata) – the nodata value used (do this for each raster if the nodata values do not match)\n",
    "- [`shape`](https://rasterio.readthedocs.io/en/latest/api/rasterio.io.html#rasterio.io.DatasetReader.shape) – number of rows and columns\n",
    "- [`transform`](https://rasterio.readthedocs.io/en/latest/api/rasterio.io.html#rasterio.io.DatasetReader.transform) – how to translate from row/column indices to spatial coordinates\n",
    "- [`res`](https://rasterio.readthedocs.io/en/latest/api/rasterio.io.html#rasterio.io.DatasetReader.res) – the raster resolution (dimensions of the raster cell)\n",
    "\n",
    "Make sure to explore both the data matrices and the various metadata values once you have extracted them to ensure everything is as expected."
   ]
  },
  {
   "cell_type": "code",
   "execution_count": null,
   "id": "3898b820-beed-485c-b0c5-2d891e0b37bc",
   "metadata": {},
   "outputs": [],
   "source": [
    "# check if both files have the same metadata (spatial attributes)\n",
    "with rasterio.open('./data/elevation.tif') as elev_file:\n",
    "    with rasterio.open('./data/landcover.tif') as land_file:\n",
    "        print(elev_file.meta == land_file.meta)"
   ]
  },
  {
   "cell_type": "code",
   "execution_count": null,
   "id": "1a4fb7c8-0693-46ba-a8c9-96f34303ca82",
   "metadata": {},
   "outputs": [],
   "source": [
    "# extract data matrices and raster attributes\n",
    "with rasterio.open('./data/elevation.tif') as elev_file:\n",
    "    with rasterio.open('./data/landcover.tif') as land_file:\n",
    "        elevation = elev_file.read(1)\n",
    "        landcover = land_file.read(1)\n",
    "        bounds = elev_file.bounds\n",
    "        crs = elev_file.crs\n",
    "        nodata = elev_file.nodata\n",
    "        shape = elev_file.shape\n",
    "        transform = elev_file.transform\n",
    "        res = elev_file.res\n",
    "        meta = elev_file.meta"
   ]
  },
  {
   "cell_type": "code",
   "execution_count": null,
   "id": "2f695cd7-d69a-4883-bc3c-62eed2ddb6f8",
   "metadata": {},
   "outputs": [],
   "source": [
    "meta"
   ]
  },
  {
   "cell_type": "code",
   "execution_count": null,
   "id": "e6ded944-4b12-4abe-b4ab-0fd0d4617bbc",
   "metadata": {},
   "outputs": [],
   "source": [
    "res"
   ]
  },
  {
   "cell_type": "code",
   "execution_count": null,
   "id": "c62051c9-9d6a-40cc-9fe6-2b111aff7730",
   "metadata": {},
   "outputs": [],
   "source": [
    "transform"
   ]
  },
  {
   "cell_type": "code",
   "execution_count": null,
   "id": "0b77516d-17d5-4a82-8261-8ecd1f73be64",
   "metadata": {},
   "outputs": [],
   "source": [
    "shape"
   ]
  },
  {
   "cell_type": "code",
   "execution_count": null,
   "id": "e6369b24-2282-40f0-bcb8-608f527a759b",
   "metadata": {},
   "outputs": [],
   "source": [
    "nodata"
   ]
  },
  {
   "cell_type": "code",
   "execution_count": null,
   "id": "e222e6f9-b6fb-4790-98c3-14cbe3effec5",
   "metadata": {},
   "outputs": [],
   "source": [
    "crs"
   ]
  },
  {
   "cell_type": "code",
   "execution_count": null,
   "id": "6492f0c3-d35e-49d9-83d4-04d01e33d98e",
   "metadata": {},
   "outputs": [],
   "source": [
    "bounds"
   ]
  },
  {
   "cell_type": "code",
   "execution_count": null,
   "id": "ecda75c3-0fc4-495f-9bcc-e7367165cf7f",
   "metadata": {},
   "outputs": [],
   "source": [
    "elevation"
   ]
  },
  {
   "cell_type": "code",
   "execution_count": null,
   "id": "89d5303c-21d7-475f-82f0-b5e593a17a1e",
   "metadata": {},
   "outputs": [],
   "source": [
    "landcover"
   ]
  },
  {
   "cell_type": "markdown",
   "id": "720fb832-2490-4d3f-b9af-c4d700279c35",
   "metadata": {},
   "source": [
    "## Visualize the Raster Datasets\n",
    "\n",
    "Use the RasterIO [`show()`](https://rasterio.readthedocs.io/en/latest/api/rasterio.plot.html#rasterio.plot.show) function to visualize both raster datasets and ensure they were read in correctly. Make sure to specify the `transform` to see actual spatial coordinates on the axes. Also use the `cmap` attribute to specify appropriate [Matplotlib colormaps](https://matplotlib.org/stable/tutorials/colors/colormaps.html) for each dataset. Remember that land cover data is categorical, so you should use a categorical color map for that visualization."
   ]
  },
  {
   "cell_type": "code",
   "execution_count": null,
   "id": "4bb67774-e140-4bc1-b084-9aea3c318e4c",
   "metadata": {},
   "outputs": [],
   "source": [
    "show(elevation, transform = transform, cmap = 'terrain')\n",
    "plt.show()"
   ]
  },
  {
   "cell_type": "code",
   "execution_count": null,
   "id": "d881cb97-468c-4271-9db0-3a17af122440",
   "metadata": {},
   "outputs": [],
   "source": [
    "show(landcover, transform = transform, cmap = 'tab20')\n",
    "plt.show()"
   ]
  },
  {
   "cell_type": "markdown",
   "id": "7b92e3ed-5795-4704-bebe-cea5a70a1509",
   "metadata": {},
   "source": [
    "## Reclassify Land Cover\n",
    "\n",
    "Although the land cover raster contains numeric data, each number is representative of a land cover type. This information is usually stored in the raster attribute table accompanying the raster. The land cover raster we are using also has an accompanying raster attribute tablen availalbe, but unfortunately RasterIO is not yet able to read raster attribute tables. Hence, you have to use the table below to manually map the numerical cell values to their corresponding land cover types.\n",
    "\n",
    "| Cell Value | Land Cover                       |\n",
    "| :--------: | -------------------------------- |\n",
    "|      0     | Water                            |\n",
    "|      1     | Evergreen Needleleaf Forest      |\n",
    "|      2     | Evergreen Broadleaf Forest       |\n",
    "|      3     | Deciduous Needleleaf Forest      |\n",
    "|      4     | Deciduous Broadleaf Forest       |\n",
    "|      5     | Mixed Forests                    |\n",
    "|      6     | Closed Shrublands                |\n",
    "|      7     | Open Shrublands                  |\n",
    "|      8     | Woody Savannas                   |\n",
    "|      9     | Savannas                         |\n",
    "|     10     | Grasslands                       |\n",
    "|     11     | Permanent Wetlands               |\n",
    "|     12     | Croplands                        |\n",
    "|     13     | Urban and Built-Up Areas         |\n",
    "|     14     | Cropland with Natural Vegetation |\n",
    "|     15     | Snow and Ice                     |\n",
    "|     16     | Barren or Sparsely Vegetated     |\n",
    "\n",
    "\n",
    "We would like to assign a risk score ranging from one to five (with one denoting lowest risk and five denoting highest risk) to each of the land cover types as specified below.\n",
    "\n",
    "| Land Cover Types                     | Land Cover Codes  | Risk Level     | Risk Score |\n",
    "| ------------------------------------ | ----------------- | -------------- | :--------: |\n",
    "| Water and Wetlands                   | 0, 11             | Very high risk |      5     |\n",
    "| Croplands and Natural Vegetation     | 12, 14            | High risk      |      4     |\n",
    "| Shrublands, Grasslands, and Savannas | 6, 7, 8, 9, 10    | Medium risk    |      3     |\n",
    "| Forests and Urban/Built-Up Areas     | 1, 2, 3, 4, 5, 13 | Low risk       |      2     |\n",
    "| Snow/Ice and Barren Land             | 15, 16            | Very low risk  |      1     |\n",
    "\n",
    "\n",
    "Create a reclassified land cover raster as follows:\n",
    "1. Use [`np.full()`](https://numpy.org/doc/stable/reference/generated/numpy.full.html) to create an empty array filled with `np.NaN` that matches the `shape` of the land cover raster.\n",
    "2. Utilize [boolean indexing](https://numpy.org/doc/stable/reference/arrays.indexing.html#boolean-array-indexing) to fill the newly created raster based on values of the `landcover` data matrix.\n",
    "\n",
    "Once you have created the reclassified land cover raster, visualize it with using the appropriate `transform` and the `\"RdYlBu_r\"` (reversed red-yellow-blue) colormap."
   ]
  },
  {
   "cell_type": "code",
   "execution_count": null,
   "id": "1b8bf030-7ccf-404a-a59b-79fc98c7b92a",
   "metadata": {},
   "outputs": [],
   "source": [
    "# create empty raster and populate based on reclassfied landcover values\n",
    "land_reclass = np.full(shape, fill_value=np.NaN)\n",
    "land_reclass[(landcover == 0) | (landcover == 11)] = 5\n",
    "land_reclass[(landcover == 12) | (landcover == 14)] = 4\n",
    "land_reclass[(landcover >= 6) & (landcover <= 10)] = 3\n",
    "land_reclass[((landcover >= 1) & (landcover <= 5)) | (landcover == 13)] = 2\n",
    "land_reclass[landcover >= 15] = 1\n",
    "land_reclass"
   ]
  },
  {
   "cell_type": "code",
   "execution_count": null,
   "id": "f5e1a0c4-c87f-4c81-9f85-b71e20dfeaca",
   "metadata": {},
   "outputs": [],
   "source": [
    "show(land_reclass, transform=transform, cmap='RdYlBu_r')\n",
    "plt.show()"
   ]
  },
  {
   "cell_type": "markdown",
   "id": "758b19c2-029e-4c99-b447-c5abac4cb264",
   "metadata": {},
   "source": [
    "## Calculate Slope Raster\n",
    "\n",
    "Use [RichDEM](https://richdem.readthedocs.io/en/latest/) to calculate a slope raster as follows:\n",
    "1. Use `rd.rdarray()` to create an `rdarray` version of the `elevation` matrix. Make sure to specify the appropriate `no_data` value!\n",
    "2. Use `.to_gdal()` to convert the `transform` to the format expected by RichDEM and set that as the `.geotransform` attribute of the new `rdarray`.\n",
    "3. Use [`rd.TerrainAttribute()`](https://richdem.readthedocs.io/en/latest/python_api.html#richdem.TerrainAttribute) to calculate the `\"slope_percentage\"` attribute.\n",
    "\n",
    "Note that the values of the result matrix are slope percentages, meaning that they range from zero to one hundred. Make sure to take a look at the data matrix and visualize it using [`show()`](https://rasterio.readthedocs.io/en/latest/api/rasterio.plot.html#rasterio.plot.show) to validate your work."
   ]
  },
  {
   "cell_type": "code",
   "execution_count": null,
   "id": "5ec8baf9-38c9-4f21-9c5d-9afe8cecad86",
   "metadata": {},
   "outputs": [],
   "source": [
    "# create an rdarray version of the elevation raster and set the transform\n",
    "elevation_rd = rd.rdarray(elevation, no_data=nodata)\n",
    "elevation_rd.geotransform = transform.to_gdal()\n",
    "elevation_rd"
   ]
  },
  {
   "cell_type": "code",
   "execution_count": null,
   "id": "19c27e0b-9ed6-4545-a169-180a110a306b",
   "metadata": {},
   "outputs": [],
   "source": [
    "# calculate slope raster\n",
    "slope = rd.TerrainAttribute(elevation_rd, attrib='slope_percentage')\n",
    "slope"
   ]
  },
  {
   "cell_type": "code",
   "execution_count": null,
   "id": "4d5da062-ae46-4b7e-80e0-8a6a1ac93e17",
   "metadata": {},
   "outputs": [],
   "source": [
    "# replace negative values with np.NaN\n",
    "slope[slope < 0] = np.NaN\n",
    "print(slope)"
   ]
  },
  {
   "cell_type": "code",
   "execution_count": null,
   "id": "7af6634e-481e-464e-bc02-48988bd8436b",
   "metadata": {},
   "outputs": [],
   "source": [
    "show(slope, transform=transform, cmap='gray')\n",
    "plt.show()"
   ]
  },
  {
   "cell_type": "markdown",
   "id": "01f869d6-9b46-477d-ad96-b2d0eef2a3eb",
   "metadata": {},
   "source": [
    "## Reclassify Slope Raster\n",
    "\n",
    "Create a reclassified slope raster as follows:\n",
    "1. Use [`np.full()`](https://numpy.org/doc/stable/reference/generated/numpy.full.html) to create an empty array filled with `np.NaN` that matches the `shape` of the slope raster.\n",
    "2. Utilize [boolean indexing](https://numpy.org/doc/stable/reference/arrays.indexing.html#boolean-array-indexing) to fill the newly created raster based on the following slope values.\n",
    "\n",
    "| Min Slope (Inclusive) | Max Slope (Exclusive) |   Risk Level   | Risk Score |\n",
    "| :-------------------: | :-------------------: | :------------: | :--------: |\n",
    "|          ...          |           2%          | Very high risk |      5     |\n",
    "|           2%          |           5%          |    High risk   |      4     |\n",
    "|           5%          |          12%          |   Medium risk  |      3     |\n",
    "|          12%          |          20%          |    Low risk    |      2     |\n",
    "|          20%          |          ...          |  Very low risk |      1     |\n",
    "\n",
    "\n",
    "Note that you will be repeating a similar workflow to reclassify other rasters numerous times. If you are up for the challenge, attempt to write a function for the reclassification procedure that will allow you to automate further reclassification attempts. Once you have created the reclassified slope raster, visualize it with using the appropriate `transform` and the `\"RdYlBu_r\"` (reversed red-yellow-blue) colormap."
   ]
  },
  {
   "cell_type": "code",
   "execution_count": null,
   "id": "dd69024e-51f2-4a81-a4a3-ac5cc6678b93",
   "metadata": {},
   "outputs": [],
   "source": [
    "slope_reclass = np.full(shape, fill_value=np.NaN)\n",
    "slope_reclass[slope < 2] = 5\n",
    "slope_reclass[(slope >= 2) & (slope < 5)] = 4\n",
    "slope_reclass[(slope >= 5) & (slope < 12)] = 3\n",
    "slope_reclass[(slope >= 12) & (slope < 20)] = 2\n",
    "slope_reclass[slope >= 20] = 1\n",
    "slope_reclass"
   ]
  },
  {
   "cell_type": "code",
   "execution_count": null,
   "id": "ac5f82ce-14d0-45de-a532-aa4ae122523b",
   "metadata": {},
   "outputs": [],
   "source": [
    "show(slope_reclass, transform=transform, cmap='RdYlBu_r')\n",
    "plt.show()"
   ]
  },
  {
   "cell_type": "markdown",
   "id": "86168247-c069-4333-979a-afb235c6dad2",
   "metadata": {},
   "source": [
    "## Reclassify Elevation Raster\n",
    "\n",
    "Create a reclassified elevation raster based on the following elevation values.\n",
    "\n",
    "| Min Elevation (Inclusive) | Max Elevation (Exclusive) |   Risk Level   | Risk Score |\n",
    "| :-----------------------: | :-----------------------: | :------------: | :--------: |\n",
    "|            ...            |             0             | Very high risk |      5     |\n",
    "|             0             |            500            |    High risk   |      4     |\n",
    "|            500            |            1200           |   Medium risk  |      3     |\n",
    "|            1200           |            3000           |    Low risk    |      2     |\n",
    "|            3000           |            ...            |  Very low risk |      1     |\n",
    "\n",
    "\n",
    "Once you have created the reclassified land elevation raster, visualize it with using the appropriate `transform` and the `\"RdYlBu_r\"` (reversed red-yellow-blue) colormap."
   ]
  },
  {
   "cell_type": "code",
   "execution_count": null,
   "id": "984d41f2-c744-44a6-b355-b1e3c36fa2f2",
   "metadata": {},
   "outputs": [],
   "source": [
    "elev_reclass = np.full(shape, fill_value=np.NaN)\n",
    "elev_reclass[elevation < 0] = 5\n",
    "elev_reclass[(elevation >= 0) & (elevation < 500)] = 4\n",
    "elev_reclass[(elevation >= 500) & (elevation < 1200)] = 3\n",
    "elev_reclass[(elevation >= 1200) & (elevation < 3000)] = 2\n",
    "elev_reclass[elevation >= 3000] = 1\n",
    "elev_reclass"
   ]
  },
  {
   "cell_type": "code",
   "execution_count": null,
   "id": "6e6f4626-7d00-45d3-9e28-9cde5cdf10f0",
   "metadata": {},
   "outputs": [],
   "source": [
    "show(elev_reclass, transform=transform, cmap='RdYlBu_r')\n",
    "plt.show()"
   ]
  },
  {
   "cell_type": "markdown",
   "id": "ba8509d1-fddc-4bf8-80f8-01d2564e90c7",
   "metadata": {},
   "source": [
    "## Read in and Rasterize Rivers Vector\n",
    "\n",
    "We could like to consider distance to rivers in our analysis. To do so, we must first calculate an euclidean distance raster where the value of each cell is the distance to the nearest river from that cell. To do so, we must first read in and rasterize the rivers vector dataset as follows:\n",
    "\n",
    "1. Use [`gpd.read_file()`](https://geopandas.org/docs/reference/api/geopandas.read_file.html#geopandas.read_file) to read in the rivers GeoJSON file.\n",
    "2. Use the geopandas [`.to_crs()`](https://geopandas.org/en/stable/docs/reference/api/geopandas.GeoDataFrame.to_crs.html) method to reproject the vector data into the coordinate system used for the raster data.\n",
    "2. Use [`features.rasterize()`](https://rasterio.readthedocs.io/en/latest/api/rasterio.features.html#rasterio.features.rasterize) from RasterIO to convert the rivers vector into a binary raster where zero denotes a river and one denotes the lack of a river.\n",
    "    - Note that you should use the `\"geometry\"` column from the rivers GeoDataFrame as input.\n",
    "    - Remember to specify the appropriate `transform`.\n",
    "    - Use `default_value` to specify the value that should denote the presence of a river (0).\n",
    "    - Use `fill` to specify the value that should denote the lack of a river (1).\n",
    "    \n",
    "Visualize both the shapefile and the raster to make sure the conversion worked as expected. If you have a hard time seeing the river pixels of the raster, use the `\"flag\"` colormap to bring them out more."
   ]
  },
  {
   "cell_type": "code",
   "execution_count": null,
   "id": "8eaa2e86-60be-4d63-b75a-2cf533472768",
   "metadata": {},
   "outputs": [],
   "source": [
    "# read in rivers shapefile\n",
    "rivers = gpd.read_file('./data/rivers.geojson').to_crs(crs)\n",
    "rivers.head()"
   ]
  },
  {
   "cell_type": "code",
   "execution_count": null,
   "id": "ed41e3cf-d014-4816-b5e8-a38e58278a71",
   "metadata": {},
   "outputs": [],
   "source": [
    "# plot rivers shapefle\n",
    "rivers.plot()\n",
    "plt.show()"
   ]
  },
  {
   "cell_type": "code",
   "execution_count": null,
   "id": "4e161bc0-6c84-4ed7-9bea-98fd2067c0fe",
   "metadata": {},
   "outputs": [],
   "source": [
    "# convert rivers shapefile into a binary raster\n",
    "rivers_raster = features.rasterize(rivers.geometry, out_shape=shape, fill=1,\n",
    "                                   transform=transform, default_value=0)\n",
    "rivers_raster"
   ]
  },
  {
   "cell_type": "code",
   "execution_count": null,
   "id": "feda79e7-157d-47cc-880e-3c14e8e2ad31",
   "metadata": {},
   "outputs": [],
   "source": [
    "show(rivers_raster, transform=transform, cmap='flag')\n",
    "plt.show()"
   ]
  },
  {
   "cell_type": "markdown",
   "id": "b85621ce-6479-475c-8368-d20b11d36cb4",
   "metadata": {},
   "source": [
    "## Calculate Euclidean Distance Raster\n",
    "\n",
    "Now we are ready to create an euclidean distance matrix that denotes distances to the nearest river. This is a relatively simple two-step process:\n",
    "1. Use [`ndimage.distance_transform_edt()`](https://docs.scipy.org/doc/scipy/reference/generated/scipy.ndimage.distance_transform_edt.html) from SciPy to calculate the euclidean distance transform for the binary rivers raster.\n",
    "2. Multiply the distance transform raster with the raster cell size (width or length) to convert the distances from number of cells to spatial units.\n",
    "    - The `res` attribute you saved earlier should contain the dimensions of the square raster cell.\n",
    "    \n",
    "Note that this workflow assumes the raster to have square cells, which is the case for us. Once completed, visualize the distance raster to validate your work."
   ]
  },
  {
   "cell_type": "code",
   "execution_count": null,
   "id": "84adec6e-6ad2-4737-aa12-3260d10e255b",
   "metadata": {},
   "outputs": [],
   "source": [
    "# confirm raster cells are square\n",
    "res[0] == res[1]"
   ]
  },
  {
   "cell_type": "code",
   "execution_count": null,
   "id": "4a5acb95-4941-4d92-9e75-f46d71a88763",
   "metadata": {},
   "outputs": [],
   "source": [
    "# calculate distance transform and multiply with cell size\n",
    "rivers_distance = ndimage.distance_transform_edt(rivers_raster) * res[0]\n",
    "rivers_distance"
   ]
  },
  {
   "cell_type": "code",
   "execution_count": null,
   "id": "5ad39c14-9c84-4f01-90b3-a92b0b620ef4",
   "metadata": {},
   "outputs": [],
   "source": [
    "# Plot rivers distance.\n",
    "show(rivers_distance, transform=transform)\n",
    "plt.show()"
   ]
  },
  {
   "cell_type": "markdown",
   "id": "b1314c12-ec27-4c29-a2dc-0acc743f6022",
   "metadata": {},
   "source": [
    "## Reclassify Distance Raster\n",
    "\n",
    "Create a reclassified river distance raster based on the following distance values. Remember that the distance values are in meters!\n",
    "\n",
    "| Min Distance (Inclusive) | Max Distance (Exclusive) |   Risk Level   | Risk Score |\n",
    "| :----------------------: | :----------------------: | :------------: | :--------: |\n",
    "|            ...           |      1 mile (1609 m)     | Very high risk |      5     |\n",
    "|      1 mile (1609 m)     |     5 miles (8046 m)     |    High risk   |      4     |\n",
    "|     5 miles (8046 m)     |    25 miles (40233 m)    |   Medium risk  |      3     |\n",
    "|    25 miles (40233 m)    |    75 miles (120701 m)   |    Low risk    |      2     |\n",
    "|    75 miles (120701 m)   |            ...           |  Very low risk |      1     |\n",
    "\n",
    "\n",
    "Once you have created the reclassified distance raster, visualize it using the appropriate `transform` and the `\"RdYlBu_r\"` (reversed red-yellow-blue) colormap."
   ]
  },
  {
   "cell_type": "code",
   "execution_count": null,
   "id": "6b013f81-61fd-4c46-baf9-adf248357f3e",
   "metadata": {},
   "outputs": [],
   "source": [
    "rivers_reclass = np.full(shape, fill_value=np.NaN)\n",
    "rivers_reclass[rivers_distance < 1609] = 5\n",
    "rivers_reclass[(rivers_distance >= 1609) & (rivers_distance < 8046)] = 4\n",
    "rivers_reclass[(rivers_distance >= 8046) & (rivers_distance < 40233)] = 3\n",
    "rivers_reclass[(rivers_distance >= 40233) & (rivers_distance < 120701)] = 2\n",
    "rivers_reclass[rivers_distance >= 120701] = 1\n",
    "rivers_reclass"
   ]
  },
  {
   "cell_type": "code",
   "execution_count": null,
   "id": "e096ba4e-eebc-4c8a-a976-4809437d5773",
   "metadata": {},
   "outputs": [],
   "source": [
    "show(rivers_reclass, transform=transform, cmap='RdYlBu_r')\n",
    "plt.show()"
   ]
  },
  {
   "cell_type": "markdown",
   "id": "82fd8412-d3ee-4a7e-bee4-59e62c83cac4",
   "metadata": {},
   "source": [
    "## Calculate Weighted and Unweighted Risk Rasters\n",
    "\n",
    "Create and visualize both a weighted and an unweighted risk raster. For the unweighed risk raster, just add up all the reclassified rasters. For the weighted risk raster, assign the following weights to each component.\n",
    "\n",
    "| Component          | Weight |\n",
    "| ------------------ | :----: |\n",
    "| Distance to rivers |   35%  |\n",
    "| Land cover         |   25%  |\n",
    "| Slope              |   25%  |\n",
    "| Elevation          |   15%  |\n",
    "\n",
    "When visualizing the rasters, use the appropriate `transform` and the `\"RdYlBu_r\"` (reversed red-yellow-blue) colormap as before."
   ]
  },
  {
   "cell_type": "code",
   "execution_count": null,
   "id": "db90368d-a775-4fe4-a76d-3a6767d81e80",
   "metadata": {},
   "outputs": [],
   "source": [
    "unweighted_risk = rivers_reclass + land_reclass + slope_reclass + elev_reclass\n",
    "unweighted_risk"
   ]
  },
  {
   "cell_type": "code",
   "execution_count": null,
   "id": "36af6270-5bf5-4f80-a6f5-9e4a2edf63ac",
   "metadata": {},
   "outputs": [],
   "source": [
    "show(unweighted_risk, transform=transform, cmap='RdYlBu_r')\n",
    "plt.show()"
   ]
  },
  {
   "cell_type": "code",
   "execution_count": null,
   "id": "597d78d4-eabd-4d9b-901f-c4d240b8547d",
   "metadata": {},
   "outputs": [],
   "source": [
    "weighted_risk = 0.35*rivers_reclass + 0.25*land_reclass + 0.25*slope_reclass + 0.15*elev_reclass\n",
    "weighted_risk"
   ]
  },
  {
   "cell_type": "code",
   "execution_count": null,
   "id": "96405843-5c0d-4098-9c5c-a42148626c33",
   "metadata": {},
   "outputs": [],
   "source": [
    "show(weighted_risk, transform=transform, cmap='RdYlBu_r')\n",
    "plt.show()"
   ]
  },
  {
   "cell_type": "markdown",
   "id": "b74f2a19-d761-4dfb-a7a9-73ad8c326dc4",
   "metadata": {},
   "source": [
    "## Mask the Risk Rasters\n",
    "\n",
    "Because the rivers shapefile was confined to the boundaries of Ethiopia and the elevation DEM contained some missing data outside of the boundaries of Ethiopia, our risk rasters only have accurate values within the boundaries of Ethiopia. Hence we should mask the risk rasters to the boundaries of Ethiopia by marking all cells outside of Ethiopia as `np.NaN` to denote no data. This can be done as follows:\n",
    "\n",
    "1. Use [`gpd.read_file()`](https://geopandas.org/docs/reference/api/geopandas.read_file.html#geopandas.read_file) to read in the boundaries of Ethiopia.\n",
    "2. Use the geopandas [`.to_crs()`](https://geopandas.org/en/stable/docs/reference/api/geopandas.GeoDataFrame.to_crs.html) method to reproject the vector data into the coordinate system used for the raster data.\n",
    "2. Use [`features.rasterize()`](https://rasterio.readthedocs.io/en/latest/api/rasterio.features.html#rasterio.features.rasterize) from RasterIO to convert the Ethiopia shapefile into a binary raster.\n",
    "3. Use [boolean indexing](https://numpy.org/doc/stable/reference/arrays.indexing.html#boolean-array-indexing) to replace all cells in the risk rasters that are not within Ethiopia with `np.NaN`.\n",
    "\n",
    "Once you have masked the risk rasters, visualize them again using the appropriate `transform` and the `\"RdYlBu_r\"` (reversed red-yellow-blue) colormap."
   ]
  },
  {
   "cell_type": "code",
   "execution_count": null,
   "id": "9f472401-d90a-4876-99f6-3d721a0ca5ef",
   "metadata": {},
   "outputs": [],
   "source": [
    "boundaries = gpd.read_file('./data/ethiopia.geojson').to_crs(crs)\n",
    "boundaries"
   ]
  },
  {
   "cell_type": "code",
   "execution_count": null,
   "id": "d525af4f-aee0-4505-a230-ed1c082b4f66",
   "metadata": {},
   "outputs": [],
   "source": [
    "boundaries.plot()\n",
    "plt.show()"
   ]
  },
  {
   "cell_type": "code",
   "execution_count": null,
   "id": "94579a5c-7f3d-4f13-93ec-86702f98991a",
   "metadata": {},
   "outputs": [],
   "source": [
    "# OPTION 1: convert to binary raster and reclassify\n",
    "boundaries_raster = features.rasterize(boundaries.geometry, out_shape=shape, \n",
    "                                       fill=0, transform=transform,\n",
    "                                       default_value=1)\n",
    "boundaries_raster"
   ]
  },
  {
   "cell_type": "code",
   "execution_count": null,
   "id": "ad3485a0-5b76-418c-a67d-db8a825a5788",
   "metadata": {},
   "outputs": [],
   "source": [
    "show(boundaries_raster, transform=transform)\n",
    "plt.show()"
   ]
  },
  {
   "cell_type": "code",
   "execution_count": null,
   "id": "005da2da-cb53-454b-9cf6-ec3f147e04ec",
   "metadata": {},
   "outputs": [],
   "source": [
    "unweighted_risk_masked = np.where(boundaries_raster == 0, np.NaN, unweighted_risk)\n",
    "unweighted_risk_masked"
   ]
  },
  {
   "cell_type": "code",
   "execution_count": null,
   "id": "5ba3622b-b034-4698-9e22-66cc55d73ac9",
   "metadata": {},
   "outputs": [],
   "source": [
    "show(unweighted_risk_masked, transform=transform, cmap='RdYlBu_r')\n",
    "plt.show()"
   ]
  },
  {
   "cell_type": "code",
   "execution_count": null,
   "id": "030f2fc8-4f46-4ff3-8e9c-483ca115e947",
   "metadata": {},
   "outputs": [],
   "source": [
    "weighted_risk_masked = np.where(boundaries_raster == 0, np.NaN, weighted_risk)\n",
    "weighted_risk_masked"
   ]
  },
  {
   "cell_type": "code",
   "execution_count": null,
   "id": "ea8333fa-a83c-4e29-b8c6-f490577e55e1",
   "metadata": {},
   "outputs": [],
   "source": [
    "show(weighted_risk_masked, transform=transform, cmap='RdYlBu_r')\n",
    "plt.show()"
   ]
  },
  {
   "cell_type": "code",
   "execution_count": null,
   "id": "4d821317-6250-4393-a912-07e76ea17da3",
   "metadata": {},
   "outputs": [],
   "source": [
    "# OPTION 2: create mask and multiply\n",
    "mask = features.rasterize(boundaries.geometry, out_shape=shape, fill=np.NaN,\n",
    "                          transform=transform, default_value=1)\n",
    "mask"
   ]
  },
  {
   "cell_type": "code",
   "execution_count": null,
   "id": "d8b6fccb-e3f2-4ea1-825a-ac2e1a9be881",
   "metadata": {},
   "outputs": [],
   "source": [
    "show(mask, transform=transform)\n",
    "plt.show()"
   ]
  },
  {
   "cell_type": "code",
   "execution_count": null,
   "id": "38398b4c-517e-47f7-b9dd-19cf0cfbff12",
   "metadata": {},
   "outputs": [],
   "source": [
    "unweighted_risk_masked = unweighted_risk * mask\n",
    "unweighted_risk_masked"
   ]
  },
  {
   "cell_type": "code",
   "execution_count": null,
   "id": "8bad98e0-e9ef-4b65-88e6-8d71035ede06",
   "metadata": {},
   "outputs": [],
   "source": [
    "show(unweighted_risk_masked, transform=transform, cmap='RdYlBu_r')\n",
    "plt.show()"
   ]
  },
  {
   "cell_type": "code",
   "execution_count": null,
   "id": "dd18ff47-75ab-4922-9e2b-db7b73568365",
   "metadata": {},
   "outputs": [],
   "source": [
    "weighted_risk_masked = weighted_risk * mask\n",
    "weighted_risk_masked"
   ]
  },
  {
   "cell_type": "code",
   "execution_count": null,
   "id": "8fe56ad5-f08f-411a-8954-bcdcb02fbaa6",
   "metadata": {},
   "outputs": [],
   "source": [
    "show(weighted_risk_masked, transform=transform, cmap='RdYlBu_r')\n",
    "plt.show()"
   ]
  },
  {
   "cell_type": "markdown",
   "id": "ac7930e2-5493-4f69-806e-4ee776fcd95c",
   "metadata": {},
   "source": [
    "## Calculate Zonal Statistics\n",
    "\n",
    "Determine the administrative zone with the highest risk as follows:\n",
    "\n",
    "1. Use [`gpd.read_file()`](https://geopandas.org/docs/reference/api/geopandas.read_file.html#geopandas.read_file) to read in the boundaries of the administrative zones.\n",
    "2. Use the geopandas [`.to_crs()`](https://geopandas.org/en/stable/docs/reference/api/geopandas.GeoDataFrame.to_crs.html) method to reproject the vector data into the coordinate system used for the raster data.\n",
    "2. Visualize the administrative zone boundaries on top of the masked weighted risk raster.\n",
    "3. Use the [`rasterstats`](https://pythonhosted.org/rasterstats/index.html) package to calculate the average weighted risk for each administrative zone.\n",
    "4. Add the calculated average weighted risk values to the administrative zones GeoDataFrame.\n",
    "5. Sort the administrative zones GeoDataFrame on the average weighted risk values and report the zone with the highest risk.\n",
    "5. Visualize the administrative zones on a red-yellow-blue choropleth map where higher risk zones are colored red and lower risk zones are colored blue."
   ]
  },
  {
   "cell_type": "code",
   "execution_count": null,
   "id": "2e2d4719-a90f-48ac-88fc-ef3e8cdff68f",
   "metadata": {},
   "outputs": [],
   "source": [
    "zones = gpd.read_file('./data/zones.geojson').to_crs(crs)\n",
    "zones.head()"
   ]
  },
  {
   "cell_type": "code",
   "execution_count": null,
   "id": "40c150e9-2f02-4b3d-b5ac-7f680774b8e8",
   "metadata": {},
   "outputs": [],
   "source": [
    "ax = zones.plot(facecolor='none', edgecolor='black')\n",
    "show(weighted_risk_masked, ax=ax, cmap ='RdYlBu_r', transform=transform)\n",
    "plt.show()"
   ]
  },
  {
   "cell_type": "code",
   "execution_count": null,
   "id": "d4e887bf-d929-4015-9d6c-72e816e053dd",
   "metadata": {},
   "outputs": [],
   "source": [
    "stats = pd.DataFrame(zonal_stats(zones, weighted_risk_masked, affine=transform,\n",
    "                                 stats='mean', nodata=np.NaN)) \n",
    "stats.head()"
   ]
  },
  {
   "cell_type": "code",
   "execution_count": null,
   "id": "8e44071a-287e-4750-9cc5-ff71ffb7e89b",
   "metadata": {},
   "outputs": [],
   "source": [
    "zones_risk = zones.join(stats).rename(columns={'mean': 'mean_risk_score'})\n",
    "zones_risk.head()"
   ]
  },
  {
   "cell_type": "code",
   "execution_count": null,
   "id": "6acd5c13-ea2a-46f9-b36c-05d98587d2a8",
   "metadata": {},
   "outputs": [],
   "source": [
    "zones_risk.sort_values(by='mean_risk_score', ascending=False).head()"
   ]
  },
  {
   "cell_type": "code",
   "execution_count": null,
   "id": "7f9d95cc-adfd-4e42-8e7d-18cef5ef1e67",
   "metadata": {},
   "outputs": [],
   "source": [
    "zones_risk.plot(column='mean_risk_score', cmap='RdYlBu_r', legend=True)\n",
    "plt.show()"
   ]
  },
  {
   "cell_type": "markdown",
   "id": "65448d54-082c-48aa-9a41-12fe479f7c42",
   "metadata": {},
   "source": [
    "## Bonus: Create a Beautiful Raster Visualization"
   ]
  },
  {
   "cell_type": "code",
   "execution_count": null,
   "id": "e4da53e6-be65-4c55-a2a7-5546f09fb700",
   "metadata": {},
   "outputs": [],
   "source": [
    "fig, ax = plt.subplots(figsize=(8, 8))\n",
    "ax.axis((bounds.left, bounds.right, bounds.bottom, bounds.top))\n",
    "cx.add_basemap(ax=ax, crs=crs.to_string())\n",
    "image = ax.imshow(weighted_risk_masked, cmap='RdYlBu_r',\n",
    "                  extent=(bounds.left, bounds.right, bounds.bottom, bounds.top))\n",
    "fig.colorbar(image)\n",
    "plt.show()"
   ]
  }
 ],
 "metadata": {
  "kernelspec": {
   "display_name": "Python 3 (ipykernel)",
   "language": "python",
   "name": "python3"
  },
  "language_info": {
   "codemirror_mode": {
    "name": "ipython",
    "version": 3
   },
   "file_extension": ".py",
   "mimetype": "text/x-python",
   "name": "python",
   "nbconvert_exporter": "python",
   "pygments_lexer": "ipython3",
   "version": "3.9.7"
  }
 },
 "nbformat": 4,
 "nbformat_minor": 5
}
